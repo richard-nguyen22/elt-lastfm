{
 "cells": [
  {
   "cell_type": "markdown",
   "metadata": {},
   "source": [
    "## Get a billboard of top 20 songs for the current day.\n",
    "This Jupyter code will do the following steps:\n",
    "1. Connect to top_tracks table in PostgreSQL\n",
    "2. Perform data transformation and extract a billboard of top 20 songs for the current day.\n",
    "3. Print the top 20 songs billboard as a table"
   ]
  },
  {
   "cell_type": "markdown",
   "metadata": {},
   "source": [
    "### 1. Connect to PostgreSQL database"
   ]
  },
  {
   "cell_type": "code",
   "execution_count": 1,
   "metadata": {
    "scrolled": true
   },
   "outputs": [
    {
     "name": "stdout",
     "output_type": "stream",
     "text": [
      "root\n",
      " |-- name: string (nullable = true)\n",
      " |-- duration: integer (nullable = true)\n",
      " |-- playcount: integer (nullable = true)\n",
      " |-- listeners: integer (nullable = true)\n",
      " |-- mbid: string (nullable = true)\n",
      " |-- extract_date: date (nullable = true)\n",
      " |-- url: string (nullable = true)\n",
      "\n"
     ]
    }
   ],
   "source": [
    "import findspark\n",
    "findspark.init()\n",
    "from pyspark import SparkConf\n",
    "from pyspark.sql import SparkSession\n",
    "\n",
    "# PostgreSQL database information\n",
    "url = \"jdbc:postgresql://localhost:5432/openapi\"\n",
    "table_name = 'top_tracks'\n",
    "schema = 'lastfm'\n",
    "user_name = 'api1'\n",
    "password = 'Open API@1'\n",
    "driver = \"org.postgresql.Driver\"\n",
    "\n",
    "# pyspark parameters for PostgreSQL connection\n",
    "appName = \"PostgreSQL Connection\"\n",
    "master = \"local[4]\" # Use 4 cores\n",
    "#jdbc_jar = \"D:\\\\Spark\\spark-3.0.1-bin-hadoop3.2\\\\jars\\\\postgresql-42.2.18.jar\"\n",
    "conf = SparkConf() \\\n",
    "    .setAppName(appName) \\\n",
    "    .setMaster(master)\n",
    "\n",
    "# Create a local session\n",
    "spark = SparkSession.builder \\\n",
    "    .config(conf=SparkConf()) \\\n",
    "    .getOrCreate()\n",
    "\n",
    "df = spark.read \\\n",
    "    .format(\"jdbc\") \\\n",
    "    .option(\"url\", url) \\\n",
    "    .option(\"dbtable\", table_name) \\\n",
    "    .option(\"currentSchema\", schema) \\\n",
    "    .option(\"user\", user_name) \\\n",
    "    .option(\"password\", password) \\\n",
    "    .option(\"driver\", driver) \\\n",
    "    .load()\n",
    "\n",
    "# Print table schema\n",
    "df.printSchema()"
   ]
  },
  {
   "cell_type": "markdown",
   "metadata": {},
   "source": [
    "### Extract a billboard of top 20 songs for the current day"
   ]
  },
  {
   "cell_type": "code",
   "execution_count": 2,
   "metadata": {
    "scrolled": true
   },
   "outputs": [
    {
     "name": "stdout",
     "output_type": "stream",
     "text": [
      "Today is: 2020-10-25\n"
     ]
    }
   ],
   "source": [
    "import datetime\n",
    "from pyspark.sql.functions import col\n",
    "today = datetime.date.today()\n",
    "yesterday = today - datetime.timedelta(days=1)\n",
    "\n",
    "df_today = df.selectExpr('name', 'listeners AS today_listeners', 'playcount AS today_playcount', 'mbid')\\\n",
    "    .where((col('extract_date') == today))\n",
    "df_yesterday = df.selectExpr('name', 'listeners AS yesterday_listeners', 'playcount AS yesterday_playcount', 'mbid')\\\n",
    "    .where((col('extract_date') == yesterday))\n",
    "print(\"Today is: {}\".format(today))"
   ]
  },
  {
   "cell_type": "code",
   "execution_count": 4,
   "metadata": {
    "scrolled": true
   },
   "outputs": [
    {
     "name": "stdout",
     "output_type": "stream",
     "text": [
      "+-------------------+---------------+---------------+--------------------+\n",
      "|               name|today_listeners|today_playcount|                mbid|\n",
      "+-------------------+---------------+---------------+--------------------+\n",
      "|              Intro|        1167976|       14057220|773a1557-a974-4f1...|\n",
      "|         Blue Jeans|         814411|       12805647|e5977c09-8f5a-46b...|\n",
      "|When You Were Young|        1447917|       11681896|b38f9ded-8ac3-409...|\n",
      "|           Teardrop|        1363538|       11431588|04a4ac3e-5439-421...|\n",
      "|          I'm Yours|        1366957|       11029433|a5a2330e-2fff-460...|\n",
      "+-------------------+---------------+---------------+--------------------+\n",
      "only showing top 5 rows\n",
      "\n"
     ]
    }
   ],
   "source": [
    "df_today.orderBy(col('playcount').desc()).show(5)"
   ]
  },
  {
   "cell_type": "code",
   "execution_count": 5,
   "metadata": {},
   "outputs": [
    {
     "name": "stdout",
     "output_type": "stream",
     "text": [
      "+-------------------+-------------------+-------------------+--------------------+\n",
      "|               name|yesterday_listeners|yesterday_playcount|                mbid|\n",
      "+-------------------+-------------------+-------------------+--------------------+\n",
      "|         Wonderwall|            1948334|           16190135|31623cce-9717-451...|\n",
      "|              Intro|            1167825|           14055147|773a1557-a974-4f1...|\n",
      "|         Blue Jeans|             814295|           12804139|e5977c09-8f5a-46b...|\n",
      "|When You Were Young|            1447724|           11679670|b38f9ded-8ac3-409...|\n",
      "|           Teardrop|            1363434|           11429903|04a4ac3e-5439-421...|\n",
      "+-------------------+-------------------+-------------------+--------------------+\n",
      "only showing top 5 rows\n",
      "\n"
     ]
    }
   ],
   "source": [
    "df_yesterday.orderBy(col('playcount').desc()).show(5)"
   ]
  },
  {
   "cell_type": "code",
   "execution_count": 6,
   "metadata": {},
   "outputs": [],
   "source": [
    "count_join = df_today.join(df_yesterday,\n",
    "    (df_today.mbid == df_yesterday.mbid) & (df_today.name == df_yesterday.name))\\\n",
    "    .select(df_today.name, 'today_playcount', 'yesterday_playcount', 'today_listeners', \n",
    "            'yesterday_listeners', df_today.mbid)\n",
    "# Add diff column = today_playcount - yesterday_playcount\n",
    "count_join = count_join.withColumn(\"playcount_diff\", count_join.today_playcount - count_join.yesterday_playcount)\n",
    "count_join = count_join.orderBy(col('today_playcount').desc())\n",
    "top_20 = count_join.select('name', 'today_playcount', 'playcount_diff')\\\n",
    "    .orderBy(col('today_playcount').desc())\\\n",
    "    .head(20)"
   ]
  },
  {
   "cell_type": "code",
   "execution_count": 7,
   "metadata": {},
   "outputs": [
    {
     "name": "stdout",
     "output_type": "stream",
     "text": [
      "+--------------------+---------------+--------------+\n",
      "|                name|today_playcount|playcount_diff|\n",
      "+--------------------+---------------+--------------+\n",
      "|               Intro|       14057220|          2073|\n",
      "|          Blue Jeans|       12805647|          1508|\n",
      "| When You Were Young|       11681896|          2226|\n",
      "|            Teardrop|       11431588|          1685|\n",
      "|           I'm Yours|       11029433|          1535|\n",
      "|    Someone Like You|       10881205|          2559|\n",
      "|             Lithium|       10537498|          2299|\n",
      "|           Alejandro|       10014817|          1924|\n",
      "|Set Fire to the Rain|        9746955|          2260|\n",
      "|Jigsaw Falling In...|        9476616|          1921|\n",
      "|            Paradise|        9311973|          1639|\n",
      "|    Comfortably Numb|        9113468|          1390|\n",
      "|   Sweet Disposition|        9041639|          1596|\n",
      "|               Faint|        8996640|          1589|\n",
      "|All These Things ...|        8945406|          1217|\n",
      "|     I Kissed a Girl|        8826661|          2175|\n",
      "|           New Slang|        8725198|          1468|\n",
      "|     Highway to Hell|        8430635|          2103|\n",
      "|            Firework|        8395904|          1589|\n",
      "|Somewhere Only We...|        8353700|          1725|\n",
      "+--------------------+---------------+--------------+\n",
      "\n"
     ]
    }
   ],
   "source": [
    "from pyspark.sql.types import *\n",
    "new_schema = StructType([\n",
    "    StructField('name', StringType(), True),\n",
    "    StructField('today_playcount', IntegerType(), True),\n",
    "    StructField('playcount_diff', IntegerType(), True)\n",
    "])\n",
    "top_20 = spark.createDataFrame(top_20, new_schema)\n",
    "top_20.show()"
   ]
  },
  {
   "cell_type": "code",
   "execution_count": 8,
   "metadata": {},
   "outputs": [],
   "source": [
    "# Save top_20 to file\n",
    "csv_file = 'data/top-20-daily/' + str(today) + '.csv'\n",
    "top_20.toPandas().to_csv(csv_file, index=False)"
   ]
  }
 ],
 "metadata": {
  "kernelspec": {
   "display_name": "Python 3",
   "language": "python",
   "name": "python3"
  },
  "language_info": {
   "codemirror_mode": {
    "name": "ipython",
    "version": 3
   },
   "file_extension": ".py",
   "mimetype": "text/x-python",
   "name": "python",
   "nbconvert_exporter": "python",
   "pygments_lexer": "ipython3",
   "version": "3.7.6"
  }
 },
 "nbformat": 4,
 "nbformat_minor": 4
}
